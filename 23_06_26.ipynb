{
  "nbformat": 4,
  "nbformat_minor": 0,
  "metadata": {
    "colab": {
      "provenance": [],
      "authorship_tag": "ABX9TyPSZkcoICMHVtXLhG47AlU0",
      "include_colab_link": true
    },
    "kernelspec": {
      "name": "python3",
      "display_name": "Python 3"
    },
    "language_info": {
      "name": "python"
    }
  },
  "cells": [
    {
      "cell_type": "markdown",
      "metadata": {
        "id": "view-in-github",
        "colab_type": "text"
      },
      "source": [
        "<a href=\"https://colab.research.google.com/github/kim-nam-keyong/TIL-Test/blob/master/23_06_26.ipynb\" target=\"_parent\"><img src=\"https://colab.research.google.com/assets/colab-badge.svg\" alt=\"Open In Colab\"/></a>"
      ]
    },
    {
      "cell_type": "code",
      "execution_count": null,
      "metadata": {
        "id": "A_Gj-DqpSRuH"
      },
      "outputs": [],
      "source": [
        "def solution(param1, param2) : (param1 + param2)"
      ]
    },
    {
      "cell_type": "code",
      "source": [
        "param1 = 1\n",
        "param2 = 2\n",
        "\n",
        "print(solution(param1, param2))"
      ],
      "metadata": {
        "colab": {
          "base_uri": "https://localhost:8080/"
        },
        "id": "t5WHpHgkS1WN",
        "outputId": "4eb07b08-7391-4a8f-ec13-4dec352d01a0"
      },
      "execution_count": null,
      "outputs": [
        {
          "output_type": "stream",
          "name": "stdout",
          "text": [
            "None\n"
          ]
        }
      ]
    },
    {
      "cell_type": "code",
      "source": [
        "n = 1260\n",
        "count  = 0\n",
        "\n",
        "# 큰 단위의 화폐부터 차례대로 확인\n",
        "coin_types = [500, 100, 50, 10 ]\n",
        "\n",
        "for coin in coin_types :\n",
        "  count += n // coin #해당 화폐로 거슬러 줄 수 있는 동전의 개수 세기\n",
        "  n %= coin\n",
        "\n",
        "print(count)"
      ],
      "metadata": {
        "colab": {
          "base_uri": "https://localhost:8080/"
        },
        "id": "ZR5EPaB5S1aZ",
        "outputId": "6798bbda-7086-4efc-88e7-df577d99d165"
      },
      "execution_count": null,
      "outputs": [
        {
          "output_type": "stream",
          "name": "stdout",
          "text": [
            "6\n"
          ]
        }
      ]
    },
    {
      "cell_type": "code",
      "source": [
        "#큰수의 법칙 문제\n",
        "# N,M,K를 공백으로 구분하여 입력받기\n",
        "n,m,k = map(int, input().split())\n",
        "\n",
        "# N개의 수를 공백으로 구분하여 입력받기\n",
        "data = list(map(int,input().split()))\n",
        "data.sort()\n",
        "first = data[n -1] #가장 큰수\n",
        "second = data[n -2]# 두 번째로 큰 수\n",
        "\n",
        "result = 0\n",
        "\n",
        "while True :\n",
        "  for i in range(k) :\n",
        "    if m ==0 : # 가장 큰 수를 K번 더하기\n",
        "      break # m 이 0이라면 반복문 탈출\n",
        "    result += first\n",
        "    m -= 1 # 더할 때마다 1씩 빼기\n",
        "  if m ==0 :\n",
        "    break    # m이 0이라면 반복문 탈출\n",
        "  result += second # 두번째로 큰 수를 한 번 더하기\n",
        "  m -= 1 # 더할 때마다 1씩 빼기\n",
        "\n",
        "print(result)\n",
        "\n",
        "\n"
      ],
      "metadata": {
        "colab": {
          "base_uri": "https://localhost:8080/"
        },
        "id": "39aOPp5PTx2f",
        "outputId": "8e1a2c11-bd2b-4dd6-d809-cf074f4b3a98"
      },
      "execution_count": null,
      "outputs": [
        {
          "output_type": "stream",
          "name": "stdout",
          "text": [
            "5 8 3 \n",
            "2 4 5 4 6\n",
            "46\n"
          ]
        }
      ]
    },
    {
      "cell_type": "code",
      "source": [],
      "metadata": {
        "colab": {
          "base_uri": "https://localhost:8080/",
          "height": 137
        },
        "id": "UdtTTKyJdAwe",
        "outputId": "6676dc39-5aba-4a4f-ea31-28d5348df962"
      },
      "execution_count": null,
      "outputs": [
        {
          "output_type": "error",
          "ename": "SyntaxError",
          "evalue": "ignored",
          "traceback": [
            "\u001b[0;36m  File \u001b[0;32m\"<ipython-input-14-a004cf1f0e86>\"\u001b[0;36m, line \u001b[0;32m1\u001b[0m\n\u001b[0;31m    for i in range(k):\u001b[0m\n\u001b[0m                      ^\u001b[0m\n\u001b[0;31mSyntaxError\u001b[0m\u001b[0;31m:\u001b[0m incomplete input\n"
          ]
        }
      ]
    }
  ]
}